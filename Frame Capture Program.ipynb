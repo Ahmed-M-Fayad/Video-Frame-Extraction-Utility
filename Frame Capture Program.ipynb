{
 "cells": [
  {
   "cell_type": "markdown",
   "metadata": {},
   "source": [
    "# Capture Video Frames"
   ]
  },
  {
   "cell_type": "markdown",
   "metadata": {},
   "source": [
    "---"
   ]
  },
  {
   "cell_type": "code",
   "execution_count": 1,
   "metadata": {},
   "outputs": [],
   "source": [
    "import cv2"
   ]
  },
  {
   "cell_type": "markdown",
   "metadata": {},
   "source": [
    "---"
   ]
  },
  {
   "cell_type": "code",
   "execution_count": 19,
   "metadata": {},
   "outputs": [],
   "source": [
    "Vid_name = 'Brain_&_Pinky.mp4'\n",
    "intervals = 4\n",
    "vidcap = cv2.VideoCapture(f'Videos\\\\{Vid_name}')\n",
    "success, image = vidcap.read()"
   ]
  },
  {
   "cell_type": "code",
   "execution_count": 20,
   "metadata": {},
   "outputs": [
    {
     "name": "stdout",
     "output_type": "stream",
     "text": [
      "Saved frame 0 as frame_interval_0.jpg\n",
      "Saved frame 100 as frame_interval_1.jpg\n",
      "Saved frame 200 as frame_interval_2.jpg\n",
      "Saved frame 300 as frame_interval_3.jpg\n"
     ]
    }
   ],
   "source": [
    "total_frames = int(vidcap.get(cv2.CAP_PROP_FRAME_COUNT))\n",
    "frames_intervals = [total_frames * i // intervals for i in range(0, intervals+1)]\n",
    "\n",
    "for count, frame_no in enumerate(frames_intervals):\n",
    "\n",
    "    vidcap.set(cv2.CAP_PROP_POS_FRAMES, frame_no)\n",
    "    success, image = vidcap.read()\n",
    "    \n",
    "    ## Testing flag to determine that every frame is captured sucessfully\n",
    "    if success:\n",
    "        cv2.imwrite(f\"Frames\\\\Vid_{Vid_name}_frame_interval_{count}.jpg\", image)\n",
    "        print(f\"Saved frame {frame_no} as frame_interval_{count}.jpg\")\n",
    "        \n",
    "vidcap.release()"
   ]
  }
 ],
 "metadata": {
  "kernelspec": {
   "display_name": "Python 3",
   "language": "python",
   "name": "python3"
  },
  "language_info": {
   "codemirror_mode": {
    "name": "ipython",
    "version": 3
   },
   "file_extension": ".py",
   "mimetype": "text/x-python",
   "name": "python",
   "nbconvert_exporter": "python",
   "pygments_lexer": "ipython3",
   "version": "3.12.1"
  }
 },
 "nbformat": 4,
 "nbformat_minor": 2
}
